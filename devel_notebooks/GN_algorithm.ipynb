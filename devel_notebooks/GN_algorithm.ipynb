{
 "cells": [
  {
   "cell_type": "markdown",
   "metadata": {},
   "source": [
    "### Test the Girwan-Newman from networkx\n",
    "- only in the development version, from github\n",
    "\n",
    "---\n"
   ]
  },
  {
   "cell_type": "code",
   "execution_count": 1,
   "metadata": {
    "collapsed": true
   },
   "outputs": [],
   "source": [
    "import networkx as nx\n",
    "%matplotlib inline"
   ]
  },
  {
   "cell_type": "markdown",
   "metadata": {},
   "source": [
    "#### Load my benchmark graph creator"
   ]
  },
  {
   "cell_type": "code",
   "execution_count": 2,
   "metadata": {
    "collapsed": false
   },
   "outputs": [],
   "source": [
    "import sys\n",
    "sys.path.append('../my_modules/')\n",
    "from girwan_newman_benchmark import create_GN_benchmark_graph, evaluate_partition"
   ]
  },
  {
   "cell_type": "markdown",
   "metadata": {},
   "source": [
    "#### Load the girwan newman from netwrokx\n",
    "\n",
    "#### Run it\n",
    "\n",
    "- it take some minutes to finish\n",
    "- After 3 cuts, (4 partitions) the results is good"
   ]
  },
  {
   "cell_type": "code",
   "execution_count": 3,
   "metadata": {
    "collapsed": false,
    "scrolled": false
   },
   "outputs": [
    {
     "data": {
      "text/plain": [
       "1.0"
      ]
     },
     "execution_count": 3,
     "metadata": {},
     "output_type": "execute_result"
    }
   ],
   "source": [
    "from networkx.algorithms.community import girvan_newman\n",
    "test_g,test_g_partition=create_GN_benchmark_graph(k_in=14)\n",
    "gn_test_res=girvan_newman(test_g)\n",
    "evaluate_partition(gn_test_res[2])"
   ]
  },
  {
   "cell_type": "markdown",
   "metadata": {},
   "source": [
    "### Write my own version which stops at 4 partitions and returns that\n",
    "- for speed\n",
    "- for cases when starting graph is already partitioned"
   ]
  },
  {
   "cell_type": "code",
   "execution_count": 4,
   "metadata": {
    "collapsed": true
   },
   "outputs": [],
   "source": [
    "def argmax(in_list):\n",
    "    return in_list.index(max(in_list)) \n",
    "    \n",
    "def my_gn_algorithm_4_benchmark(input_g):\n",
    "    \n",
    "    #create a local copy, the graph will be changed\n",
    "    g=nx.Graph(input_g)\n",
    "    \n",
    "    #check for number of components\n",
    "    if(nx.number_connected_components(g) > 4 ):\n",
    "        print \"Too many components \"\n",
    "        raise Exception\n",
    "        \n",
    "    #do the algorithm\n",
    "    while(nx.number_connected_components(g) < 4 ):\n",
    "        #get betweenness centralities\n",
    "        bc=nx.edge_betweenness_centrality(g)\n",
    "        #remove highest\n",
    "        g.remove_edge( *bc.keys()[ argmax(bc.values())])\n",
    "        \n",
    "    return [list(nodes) for nodes in nx.connected_component_subgraphs(g)]"
   ]
  },
  {
   "cell_type": "code",
   "execution_count": 5,
   "metadata": {
    "collapsed": false,
    "scrolled": false
   },
   "outputs": [
    {
     "data": {
      "text/plain": [
       "1.0"
      ]
     },
     "execution_count": 5,
     "metadata": {},
     "output_type": "execute_result"
    }
   ],
   "source": [
    "test_g,test_g_partition=create_GN_benchmark_graph(k_in=11)\n",
    "gn_test_res=my_gn_algorithm_4_benchmark(test_g)\n",
    "evaluate_partition(gn_test_res)"
   ]
  },
  {
   "cell_type": "markdown",
   "metadata": {},
   "source": [
    "----\n",
    "\n",
    "## For real networks, we have to select the number of partitions: Modularity"
   ]
  },
  {
   "cell_type": "markdown",
   "metadata": {},
   "source": [
    "#### Calculate modularity for each level\n",
    "\n",
    "- with the community module\n",
    "    - http://perso.crans.org/aynaud/communities/index.html"
   ]
  },
  {
   "cell_type": "code",
   "execution_count": 6,
   "metadata": {
    "collapsed": false
   },
   "outputs": [],
   "source": [
    "from community import modularity\n",
    "def my_modularity(nx_gn_output_level,test_g):\n",
    "    partition=dict()\n",
    "    for partitions,i in zip(nx_gn_output_level,range(len(nx_gn_output_level))):\n",
    "        for node in partitions:\n",
    "            partition[node]=i\n",
    "    return modularity(partition,test_g)"
   ]
  },
  {
   "cell_type": "code",
   "execution_count": 8,
   "metadata": {
    "collapsed": false,
    "scrolled": false
   },
   "outputs": [],
   "source": [
    "test_g,test_g_partition=create_GN_benchmark_graph(k_in=14)\n",
    "gn_test_res=girvan_newman(test_g)\n",
    "mods=[my_modularity(x,test_g) for x in gn_test_res]"
   ]
  },
  {
   "cell_type": "markdown",
   "metadata": {},
   "source": [
    "### Modularity is highest after the 3rd cut, good"
   ]
  },
  {
   "cell_type": "code",
   "execution_count": 14,
   "metadata": {
    "collapsed": false
   },
   "outputs": [
    {
     "data": {
      "image/png": "[encoded data removed]",
      "text/plain": [
       "<matplotlib.figure.Figure at 0x7fd8b34ea6d0>"
      ]
     },
     "metadata": {},
     "output_type": "display_data"
    }
   ],
   "source": [
    "import matplotlib.pyplot as plt\n",
    "%matplotlib inline\n",
    "\n",
    "fig,ax=plt.subplots()\n",
    "fig.set_size_inches(12,6)\n",
    "ax.plot(mods,lw=3)\n",
    "ax.set_xlim(0,20)\n",
    "ax.set_ylim(0.3,0.62)\n",
    "ax.set_xlabel('levels',fontsize=16)\n",
    "dump=ax.set_ylabel('modularity',fontsize=16)"
   ]
  },
  {
   "cell_type": "markdown",
   "metadata": {},
   "source": [
    "### Define a wrapper for GN, which selects the level based on modularity"
   ]
  },
  {
   "cell_type": "code",
   "execution_count": 10,
   "metadata": {
    "collapsed": true
   },
   "outputs": [],
   "source": [
    "from networkx.algorithms.community import girvan_newman\n",
    "from community import modularity\n",
    "\n",
    "def gn_best_partition(graph):\n",
    "    \n",
    "    #do all the cuts\n",
    "    all_levels=girvan_newman(graph)\n",
    "    \n",
    "    #calculate modularity for all levels\n",
    "    level_mods=[nx_gn_output_level_modularity(level,graph) for level in all_levels]\n",
    "    \n",
    "    #return the level with the highest modularity\n",
    "    return all_levels[level_mods.index(max(level_mods))]\n",
    "\n",
    "    \n",
    "def nx_gn_output_level_modularity(nx_gn_output_level,test_g):\n",
    "        partition=dict()\n",
    "        for partitions,i in zip(nx_gn_output_level,range(len(nx_gn_output_level))):\n",
    "            for node in partitions:\n",
    "                partition[node]=i\n",
    "        return modularity(partition,test_g)   "
   ]
  },
  {
   "cell_type": "code",
   "execution_count": 11,
   "metadata": {
    "collapsed": false
   },
   "outputs": [],
   "source": [
    "new_test_g,test_g_partition=create_GN_benchmark_graph(k_in=14)\n",
    "best_res=gn_best_partition(new_test_g)"
   ]
  },
  {
   "cell_type": "code",
   "execution_count": 12,
   "metadata": {
    "collapsed": false
   },
   "outputs": [
    {
     "data": {
      "text/plain": [
       "1.0"
      ]
     },
     "execution_count": 12,
     "metadata": {},
     "output_type": "execute_result"
    }
   ],
   "source": [
    "evaluate_partition(best_res)"
   ]
  }
 ],
 "metadata": {
  "kernelspec": {
   "display_name": "Python 2",
   "language": "python",
   "name": "python2"
  },
  "language_info": {
   "codemirror_mode": {
    "name": "ipython",
    "version": 2
   },
   "file_extension": ".py",
   "mimetype": "text/x-python",
   "name": "python",
   "nbconvert_exporter": "python",
   "pygments_lexer": "ipython2",
   "version": "2.7.11"
  }
 },
 "nbformat": 4,
 "nbformat_minor": 0
}
