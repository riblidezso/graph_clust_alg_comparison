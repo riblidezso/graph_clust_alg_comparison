{
 "cells": [
  {
   "cell_type": "code",
   "execution_count": 1,
   "metadata": {
    "collapsed": false
   },
   "outputs": [],
   "source": [
    "import igraph \n",
    "import networkx as nx\n",
    "\n",
    "import sys\n",
    "sys.path.append('../my_modules/')\n",
    "from girwan_newman_benchmark import create_GN_benchmark_graph,fraction_of_vertices_correctly_classified\n",
    "\n",
    "import numpy as np\n",
    "import matplotlib.pyplot as plt\n",
    "%matplotlib inline"
   ]
  },
  {
   "cell_type": "markdown",
   "metadata": {},
   "source": [
    "### Define functions for testing"
   ]
  },
  {
   "cell_type": "code",
   "execution_count": 2,
   "metadata": {
    "collapsed": false
   },
   "outputs": [],
   "source": [
    "def nx_2_ig(nx_g):\n",
    "    '''\n",
    "    function to covert networkx graph to igraph graph\n",
    "        - i started to work in networkx because i have already worked with that\n",
    "        but later i started to use igraph because it has the fastgreedy\n",
    "        algorithm implemented, and it is also supposed to be faster\n",
    "    '''\n",
    "    ig_g=igraph.Graph()\n",
    "    \n",
    "    #igraph docs say, you can add edges by name\n",
    "    # but you actually cannot ...\n",
    "    # so i have to maintain a name - id mapping\n",
    "    id_name,name_id=dict(),dict()\n",
    "    for node,i in zip(nx_g.nodes(),range(128)):\n",
    "        ig_g.add_vertex(name=node)\n",
    "        id_name[i],name_id[node]=node,i\n",
    "    \n",
    "    for edge in nx_g.edges():\n",
    "        ig_g.add_edge(name_id[edge[0]],name_id[edge[1]])\n",
    " \n",
    "    return ig_g,id_name,name_id\n",
    "\n",
    "def test_igraph_method(k_in,igraph_method):\n",
    "    '''\n",
    "    function to test an igraph community detection method, on a random GN benchmark graph\n",
    "    '''\n",
    "    graph = create_GN_benchmark_graph(k_in=k_in)\n",
    "    ig_g,id_name,name_id = nx_2_ig(graph)\n",
    "    return fraction_of_vertices_correctly_classified(igraph_method(ig_g).as_clustering(4).membership)\n",
    "\n",
    "def repeat_test_igraph_method(k_in,igraph_method,M):\n",
    "    '''\n",
    "    function to repeat test_igraph_method M times, and calculate some variance\n",
    "        - interquartile distances used because the variance is highly assymmetric\n",
    "    '''\n",
    "    corr_fracs=[test_igraph_method(k_in,igraph_method)  for x in xrange(M) ] \n",
    "    return corr_fracs\n",
    "\n",
    "def scan_k_in_vals(igraph_method,N,M,k_in_min=8,k_in_max=16):\n",
    "    '''\n",
    "    function to repeat repeat_test_igraph_method on a range of k_in value\n",
    "    '''\n",
    "    k_in_range=np.linspace(k_in_min,k_in_max,N)\n",
    "    res = np.array([ repeat_test_igraph_method(k_in,igraph_method,M)  for k_in in k_in_range ])\n",
    "    return res,k_in_range"
   ]
  },
  {
   "cell_type": "markdown",
   "metadata": {},
   "source": [
    "### Run test"
   ]
  },
  {
   "cell_type": "code",
   "execution_count": null,
   "metadata": {
    "collapsed": false
   },
   "outputs": [],
   "source": [
    "N=33 # number of k_in values\n",
    "M=100 # repetition number\n",
    "\n",
    "GN=igraph.Graph.community_edge_betweenness\n",
    "N_fast=igraph.Graph.community_fastgreedy\n",
    "\n",
    "GN_res,krange=scan_k_in_vals(GN,N=N,M=M)\n",
    "N_fast_res,krange=scan_k_in_vals(N_fast,N=N,M=M)"
   ]
  },
  {
   "cell_type": "markdown",
   "metadata": {},
   "source": [
    "### Plot the mean results\n",
    "- Does not look like the figure in Newman 2003 "
   ]
  },
  {
   "cell_type": "code",
   "execution_count": null,
   "metadata": {
    "collapsed": false
   },
   "outputs": [],
   "source": [
    "fig,ax=plt.subplots()\n",
    "fig.set_size_inches(12,9)\n",
    "#ax.plot(16-krange,GN_mean,'o',c='dodgerblue',ms=10,mec='none')\n",
    "ax.errorbar(16-krange,np.mean(N_fast_res,axis=1),fmt='o',c='salmon',ms=10,mec='none')\n",
    "ax.axhline(1,linestyle='dashed',color='grey')\n",
    "ax.set_ylim(0,1.1)\n",
    "ax.set_xlabel('average number of inter-community edges per vertex',fontsize=16)\n",
    "dump=ax.set_ylabel('fraction of nodes correctly assigned',fontsize=16)"
   ]
  }
 ],
 "metadata": {
  "kernelspec": {
   "display_name": "Python 2",
   "language": "python",
   "name": "python2"
  },
  "language_info": {
   "codemirror_mode": {
    "name": "ipython",
    "version": 2
   },
   "file_extension": ".py",
   "mimetype": "text/x-python",
   "name": "python",
   "nbconvert_exporter": "python",
   "pygments_lexer": "ipython2",
   "version": "2.7.11"
  }
 },
 "nbformat": 4,
 "nbformat_minor": 0
}
