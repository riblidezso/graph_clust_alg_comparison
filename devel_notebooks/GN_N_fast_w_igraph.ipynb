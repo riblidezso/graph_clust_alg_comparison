{
 "cells": [
  {
   "cell_type": "code",
   "execution_count": 1,
   "metadata": {
    "collapsed": false
   },
   "outputs": [],
   "source": [
    "import igraph \n",
    "import networkx as nx\n",
    "\n",
    "import sys\n",
    "sys.path.append('../my_modules/')\n",
    "from girwan_newman_benchmark import create_GN_benchmark_graph, evaluate_partition\n",
    "\n",
    "import numpy as np\n",
    "import matplotlib.pyplot as plt\n",
    "%matplotlib inline"
   ]
  },
  {
   "cell_type": "code",
   "execution_count": 2,
   "metadata": {
    "collapsed": false
   },
   "outputs": [],
   "source": [
    "def nx_2_ig(nx_g):\n",
    "    ig_g=igraph.Graph()\n",
    "    \n",
    "    #igraph docs say, you can add edges by name\n",
    "    # but you actually cannot ...\n",
    "    # so i have to maintain a name - id mapping\n",
    "    id_name,name_id=dict(),dict()\n",
    "    for node,i in zip(nx_g.nodes(),range(128)):\n",
    "        ig_g.add_vertex(name=node)\n",
    "        id_name[i],name_id[node]=node,i\n",
    "    \n",
    "    for edge in nx_g.edges():\n",
    "        ig_g.add_edge(name_id[edge[0]],name_id[edge[1]])\n",
    " \n",
    "    return ig_g,id_name,name_id\n",
    "\n",
    "def evaluate_igraph_partition(member_list):\n",
    "    correct=0\n",
    "    for i in xrange(4):\n",
    "        for j in range(32):\n",
    "            if member_list[32*i+j]==i :\n",
    "                correct+=1\n",
    "    return correct/128.0\n",
    "\n",
    "def test_igraph_method(k_in,igraph_method):\n",
    "    graph,parts = create_GN_benchmark_graph(k_in=k_in)\n",
    "    ig_g,id_name,name_id = nx_2_ig(graph)\n",
    "    return evaluate_igraph_partition(igraph_method(ig_g).as_clustering(4).membership)\n",
    "\n",
    "def repeat_test_igraph_method(k_in,igraph_method,M):\n",
    "    corr_fracs=[test_igraph_method(k_in,igraph_method)  for x in xrange(M) ] \n",
    "    return np.mean(corr_fracs),np.std(corr_fracs)\n",
    "\n",
    "def scan_k_in_vals(igraph_method,N,M,k_in_min=8,k_in_max=16):\n",
    "    k_in_range=np.linspace(k_in_min,k_in_max,N)\n",
    "    res = [ repeat_test_igraph_method(k_in,igraph_method,M)  for k_in in k_in_range ] \n",
    "    mean,std=np.array(res)[:,0],np.array(res)[:,1]\n",
    "    return mean,std,k_in_range"
   ]
  },
  {
   "cell_type": "code",
   "execution_count": 3,
   "metadata": {
    "collapsed": false
   },
   "outputs": [],
   "source": [
    "GN=igraph.Graph.community_edge_betweenness\n",
    "N_fast=igraph.Graph.community_fastgreedy"
   ]
  },
  {
   "cell_type": "code",
   "execution_count": 4,
   "metadata": {
    "collapsed": false
   },
   "outputs": [],
   "source": [
    "N,M=13,10\n",
    "#GN_res,krange=scan_k_in_vals(GN,N=N,M=M)\n",
    "N_fast_mean,N_fast_std,krange=scan_k_in_vals(N_fast,N=N,M=M)"
   ]
  },
  {
   "cell_type": "code",
   "execution_count": 5,
   "metadata": {
    "collapsed": false
   },
   "outputs": [
    {
     "data": {
      "image/png": "[encoded data removed]",
      "text/plain": [
       "<matplotlib.figure.Figure at 0x7fa3700a1a90>"
      ]
     },
     "metadata": {},
     "output_type": "display_data"
    }
   ],
   "source": [
    "fig,ax=plt.subplots()\n",
    "fig.set_size_inches(12,9)\n",
    "ax.plot(16-krange,N_fast_mean,'o',ms=10,mec='none')\n",
    "ax.axhline(1,linestyle='dashed',color='grey')\n",
    "ax.set_ylim(0,1.1)\n",
    "ax.set_xlabel('average number of inter-community edges per vertex',fontsize=16)\n",
    "dump=ax.set_ylabel('fraction of nodes correctly assigned',fontsize=16)"
   ]
  }
 ],
 "metadata": {
  "kernelspec": {
   "display_name": "Python 2",
   "language": "python",
   "name": "python2"
  },
  "language_info": {
   "codemirror_mode": {
    "name": "ipython",
    "version": 2
   },
   "file_extension": ".py",
   "mimetype": "text/x-python",
   "name": "python",
   "nbconvert_exporter": "python",
   "pygments_lexer": "ipython2",
   "version": "2.7.11"
  }
 },
 "nbformat": 4,
 "nbformat_minor": 0
}
