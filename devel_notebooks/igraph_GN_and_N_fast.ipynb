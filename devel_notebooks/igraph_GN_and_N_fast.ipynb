{
 "cells": [
  {
   "cell_type": "markdown",
   "metadata": {},
   "source": [
    "# Try the igraph methods for Girvan-Newman and Newman's fast algorithm\n",
    "\n",
    "- Created a wrapper for running the methods\n",
    "    - had to do a workaround because of a bug\n",
    "    \n",
    "    \n",
    "- Created a wrapper to test methods on GN synthetic test graphs\n",
    " \n",
    "---"
   ]
  },
  {
   "cell_type": "code",
   "execution_count": 1,
   "metadata": {
    "collapsed": false
   },
   "outputs": [],
   "source": [
    "import igraph \n",
    "import networkx as nx\n",
    "\n",
    "import sys\n",
    "sys.path.append('../my_modules/')\n",
    "from girwan_newman_benchmark import create_GN_benchmark_graph,fraction_of_vertices_correctly_classified"
   ]
  },
  {
   "cell_type": "markdown",
   "metadata": {},
   "source": [
    "#### Define functions for running a clustering\n"
   ]
  },
  {
   "cell_type": "code",
   "execution_count": 2,
   "metadata": {
    "collapsed": false
   },
   "outputs": [],
   "source": [
    "def best_modularity_level_w_igraph_method(graph,igraph_method):\n",
    "    \"\"\"\n",
    "    Run an igraph clustering method on the graph, return best clustering.\n",
    "    \n",
    "    Run the method, and select the best level of the dendogram.\n",
    "        igraph select the best level based on hint from the algorithm\n",
    "        (fastgreedy calculates modularities for each level on the fly ) or \n",
    "        if there is no hint recalculates modularity for each level, and selects the best one.\n",
    "    Do workaround to avoid bug with initally disconnected graphs.\n",
    "    \"\"\"\n",
    "    \n",
    "    #run clustering\n",
    "    dendrogram=igraph_method(graph)\n",
    "    \n",
    "    \"\"\"\n",
    "    Workaround:\n",
    "        usually you would call dedrogram.as_clustering() it should return the best\n",
    "        level of the dendrogram.\n",
    "        BUT! there is a bug for an initially  unconnected graph, where this causes this method to fail.\n",
    "            https://github.com/igraph/igraph/issues/675\n",
    "    The workaround is to try to get the best cut, but if fails, get a lower one which at least exists.\n",
    "    \"\"\"\n",
    "    \n",
    "    #get best cut:\n",
    "    n_best_clusters=dendrogram.optimal_count\n",
    "    \n",
    "    #get best cluster membership\n",
    "    while(n_best_clusters <100):\n",
    "        #try with the best, if it fails increment level\n",
    "        try:\n",
    "            best_clusters=dendrogram.as_clustering(n_best_clusters).membership\n",
    "            break\n",
    "        except:\n",
    "            n_best_clusters+=1\n",
    "    \n",
    "    return best_clusters"
   ]
  },
  {
   "cell_type": "markdown",
   "metadata": {},
   "source": [
    "#### Define functions to evaluate a method"
   ]
  },
  {
   "cell_type": "code",
   "execution_count": 3,
   "metadata": {
    "collapsed": true
   },
   "outputs": [],
   "source": [
    "def nx_2_ig(nx_g):\n",
    "    \"\"\"\n",
    "    Covert networkx graph to igraph graph.\n",
    "    \n",
    "    I started to work in networkx because i have already worked with that\n",
    "    but later i started to use igraph because it has the fastgreedy\n",
    "    algorithm implemented, and it is also supposed to be faster.\n",
    "    \"\"\"\n",
    "    \n",
    "    ig_g=igraph.Graph()\n",
    "    #igraph docs say, you can add edges by name\n",
    "    # but you actually cannot ...\n",
    "    # so i maintain a name - id mapping\n",
    "    id_name,name_id=dict(),dict()\n",
    "    for node,i in zip(nx_g.nodes(),range(128)):\n",
    "        ig_g.add_vertex(name=node)\n",
    "        id_name[i],name_id[node]=node,i\n",
    "    \n",
    "    for edge in nx_g.edges():\n",
    "        ig_g.add_edge(name_id[edge[0]],name_id[edge[1]])\n",
    " \n",
    "    return ig_g,id_name,name_id\n",
    "\n",
    "def test_igraph_method(k_in,igraph_method):\n",
    "    \"\"\"\n",
    "    Test an igraph community detection method on a random synthetic GN benchmark graph, return fvcc score.\n",
    "    \n",
    "    fvcc score is the fraction_of vertices correctly classified defined by Newman.\n",
    "    \"\"\"\n",
    "    \n",
    "    #create graph\n",
    "    graph = create_GN_benchmark_graph(k_in=k_in)\n",
    "    #turn it into an igraph graph\n",
    "    ig_g,id_name,name_id = nx_2_ig(graph)\n",
    "    \n",
    "    # run the method with best level\n",
    "    membership =  best_modularity_level_w_igraph_method(ig_g,igraph_method)\n",
    "    \n",
    "    #calculate quality of clustering\n",
    "    fvcc=fraction_of_vertices_correctly_classified(membership)\n",
    "    \n",
    "    return fvcc"
   ]
  },
  {
   "cell_type": "markdown",
   "metadata": {},
   "source": [
    "#### Run test"
   ]
  },
  {
   "cell_type": "code",
   "execution_count": 4,
   "metadata": {
    "collapsed": false
   },
   "outputs": [
    {
     "name": "stdout",
     "output_type": "stream",
     "text": [
      "1.0\n"
     ]
    }
   ],
   "source": [
    "GN=igraph.Graph.community_edge_betweenness\n",
    "print test_igraph_method(k_in=16,igraph_method=GN)"
   ]
  },
  {
   "cell_type": "code",
   "execution_count": 5,
   "metadata": {
    "collapsed": false
   },
   "outputs": [
    {
     "name": "stdout",
     "output_type": "stream",
     "text": [
      "0.890625\n"
     ]
    }
   ],
   "source": [
    "N_fast=igraph.Graph.community_fastgreedy\n",
    "print test_igraph_method(k_in=9,igraph_method=N_fast)"
   ]
  }
 ],
 "metadata": {
  "kernelspec": {
   "display_name": "Python 2",
   "language": "python",
   "name": "python2"
  },
  "language_info": {
   "codemirror_mode": {
    "name": "ipython",
    "version": 2
   },
   "file_extension": ".py",
   "mimetype": "text/x-python",
   "name": "python",
   "nbconvert_exporter": "python",
   "pygments_lexer": "ipython2",
   "version": "2.7.11"
  }
 },
 "nbformat": 4,
 "nbformat_minor": 0
}
