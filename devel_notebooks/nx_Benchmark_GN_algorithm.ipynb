{
 "cells": [
  {
   "cell_type": "code",
   "execution_count": 1,
   "metadata": {
    "collapsed": false
   },
   "outputs": [],
   "source": [
    "import sys\n",
    "sys.path.append('../my_modules/')\n",
    "\n",
    "from girwan_newman_benchmark import create_GN_benchmark_graph, evaluate_partition\n",
    "from girwan_newman_algorithm import my_gn_algorithm_4_benchmark\n",
    "\n",
    "import numpy as np\n",
    "import matplotlib.pyplot as plt\n",
    "%matplotlib inline"
   ]
  },
  {
   "cell_type": "markdown",
   "metadata": {},
   "source": [
    "#### Scan efficiency of the algorithm on a grid of k_in\n",
    "- average 100 realizations to have a smooth curve"
   ]
  },
  {
   "cell_type": "code",
   "execution_count": null,
   "metadata": {
    "collapsed": false
   },
   "outputs": [],
   "source": [
    "def get_frac(k_in):\n",
    "    return evaluate_partition(my_gn_algorithm_4_benchmark(create_GN_benchmark_graph(k_in)[0]))\n",
    "\n",
    "N=18  # like the figure in GN article\n",
    "M=100 # like the figure in GN article\n",
    "corrects=[]\n",
    "k_ins=np.linspace(8,16,N)\n",
    "for k_in in k_ins:\n",
    "    corrects.append(np.mean([get_frac(k_in) for i in xrange(M)]))"
   ]
  },
  {
   "cell_type": "code",
   "execution_count": null,
   "metadata": {
    "collapsed": false
   },
   "outputs": [],
   "source": [
    "fig,ax=plt.subplots()\n",
    "fig.set_size_inches(12,9)\n",
    "ax.plot(16-k_ins,corrects,'o',ms=10,mec='none')\n",
    "ax.axhline(1,linestyle='dashed',color='grey')\n",
    "ax.set_ylim(0,1.1)\n",
    "ax.set_xlabel('average number of inter-community edges per vertex',fontsize=16)\n",
    "dump=ax.set_ylabel('fraction of nodes correctly assigned',fontsize=16)"
   ]
  }
 ],
 "metadata": {
  "kernelspec": {
   "display_name": "Python 2",
   "language": "python",
   "name": "python2"
  },
  "language_info": {
   "codemirror_mode": {
    "name": "ipython",
    "version": 2
   },
   "file_extension": ".py",
   "mimetype": "text/x-python",
   "name": "python",
   "nbconvert_exporter": "python",
   "pygments_lexer": "ipython2",
   "version": "2.7.11"
  }
 },
 "nbformat": 4,
 "nbformat_minor": 0
}
